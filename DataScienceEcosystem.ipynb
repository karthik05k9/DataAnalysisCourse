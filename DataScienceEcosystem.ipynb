{
  "metadata": {
    "kernelspec": {
      "name": "python",
      "display_name": "Python (Pyodide)",
      "language": "python"
    },
    "language_info": {
      "codemirror_mode": {
        "name": "python",
        "version": 3
      },
      "file_extension": ".py",
      "mimetype": "text/x-python",
      "name": "python",
      "nbconvert_exporter": "python",
      "pygments_lexer": "ipython3",
      "version": "3.8"
    }
  },
  "nbformat_minor": 5,
  "nbformat": 4,
  "cells": [
    {
      "id": "0cecd900-82a0-41fc-992c-d2b3f730648d",
      "cell_type": "markdown",
      "source": "# Data Science Tools and Ecosystem\n",
      "metadata": {}
    },
    {
      "id": "fe72a5dc-6d40-431a-98f0-130629a76898",
      "cell_type": "markdown",
      "source": "In this notebook, Data Science Tools and Ecosystem are summarized.\n",
      "metadata": {}
    },
    {
      "id": "3cb467dd-02e4-4eb4-b843-59d98ea657e9",
      "cell_type": "markdown",
      "source": "Some of the popular languages that Data Scientists use are:\n1. Python\n2. R\n3. SQL\n",
      "metadata": {}
    },
    {
      "id": "7ada008e-1cd9-4ba4-b0c7-e4883f820922",
      "cell_type": "markdown",
      "source": "Some of the commonly used libraries used by Data Scientists include:\n1. Pandas\n2. NumPy\n3. Scikit-learn\n",
      "metadata": {}
    },
    {
      "id": "a2df31a3-e606-4806-8fa9-0ec8e924c1a8",
      "cell_type": "markdown",
      "source": "| Data Science Tools |\n|--------------------|\n| Jupyter            |\n| RStudio            |\n| Apache Spark       |\n",
      "metadata": {}
    },
    {
      "id": "2c4bbe86-d1d9-49f2-a3a2-ae28ba55a5eb",
      "cell_type": "markdown",
      "source": "### Below are a few examples of evaluating arithmetic expressions in Python.\n",
      "metadata": {}
    },
    {
      "id": "30249127-f627-4d20-bcef-4e9b893b9c19",
      "cell_type": "code",
      "source": "result = (3 * 4) + 5\nresult",
      "metadata": {
        "trusted": true
      },
      "outputs": [
        {
          "execution_count": 1,
          "output_type": "execute_result",
          "data": {
            "text/plain": "17"
          },
          "metadata": {}
        }
      ],
      "execution_count": 1
    },
    {
      "id": "e2b60e21-5d51-40a1-8b12-2c86dfc31f97",
      "cell_type": "code",
      "source": "# This will convert 200 minutes to hours by dividing by 60.\n200 / 60",
      "metadata": {
        "trusted": true
      },
      "outputs": [
        {
          "execution_count": 2,
          "output_type": "execute_result",
          "data": {
            "text/plain": "3.3333333333333335"
          },
          "metadata": {}
        }
      ],
      "execution_count": 2
    },
    {
      "id": "e4b4bed4-7163-49d8-9c05-6bd58f7c1dec",
      "cell_type": "markdown",
      "source": "**Objectives:**\n- List popular languages for Data Science.\n- List commonly used libraries.\n- Create tables and arithmetic examples.\n",
      "metadata": {}
    },
    {
      "id": "e0571926-b2e5-42f2-9859-183b5ccb3b03",
      "cell_type": "markdown",
      "source": "## Author\nKarthik K\n",
      "metadata": {}
    },
    {
      "id": "6190adfc-c746-4bdb-85b6-a301a0810ed9",
      "cell_type": "code",
      "source": "",
      "metadata": {
        "trusted": true
      },
      "outputs": [],
      "execution_count": null
    }
  ]
}